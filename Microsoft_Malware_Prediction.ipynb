{
  "cells": [
    {
      "cell_type": "markdown",
      "metadata": {
        "id": "view-in-github",
        "colab_type": "text"
      },
      "source": [
        "<a href=\"https://colab.research.google.com/github/LiyangPang/Berkeley-CS61B/blob/main/Microsoft_Malware_Prediction.ipynb\" target=\"_parent\"><img src=\"https://colab.research.google.com/assets/colab-badge.svg\" alt=\"Open In Colab\"/></a>"
      ]
    },
    {
      "cell_type": "code",
      "execution_count": null,
      "metadata": {
        "colab": {
          "base_uri": "https://localhost:8080/"
        },
        "id": "gvezUbchnNbr",
        "outputId": "229035a9-8065-4534-9a02-735a6314cfcb"
      },
      "outputs": [
        {
          "output_type": "stream",
          "name": "stdout",
          "text": [
            "Requirement already satisfied: kaggle in /usr/local/lib/python3.10/dist-packages (1.5.16)\n",
            "Requirement already satisfied: six>=1.10 in /usr/local/lib/python3.10/dist-packages (from kaggle) (1.16.0)\n",
            "Requirement already satisfied: certifi in /usr/local/lib/python3.10/dist-packages (from kaggle) (2023.11.17)\n",
            "Requirement already satisfied: python-dateutil in /usr/local/lib/python3.10/dist-packages (from kaggle) (2.8.2)\n",
            "Requirement already satisfied: requests in /usr/local/lib/python3.10/dist-packages (from kaggle) (2.31.0)\n",
            "Requirement already satisfied: tqdm in /usr/local/lib/python3.10/dist-packages (from kaggle) (4.66.1)\n",
            "Requirement already satisfied: python-slugify in /usr/local/lib/python3.10/dist-packages (from kaggle) (8.0.1)\n",
            "Requirement already satisfied: urllib3 in /usr/local/lib/python3.10/dist-packages (from kaggle) (2.0.7)\n",
            "Requirement already satisfied: bleach in /usr/local/lib/python3.10/dist-packages (from kaggle) (6.1.0)\n",
            "Requirement already satisfied: webencodings in /usr/local/lib/python3.10/dist-packages (from bleach->kaggle) (0.5.1)\n",
            "Requirement already satisfied: text-unidecode>=1.3 in /usr/local/lib/python3.10/dist-packages (from python-slugify->kaggle) (1.3)\n",
            "Requirement already satisfied: charset-normalizer<4,>=2 in /usr/local/lib/python3.10/dist-packages (from requests->kaggle) (3.3.2)\n",
            "Requirement already satisfied: idna<4,>=2.5 in /usr/local/lib/python3.10/dist-packages (from requests->kaggle) (3.6)\n"
          ]
        }
      ],
      "source": [
        "! pip install kaggle"
      ]
    },
    {
      "cell_type": "code",
      "execution_count": null,
      "metadata": {
        "id": "TROoyZ4JnRrS"
      },
      "outputs": [],
      "source": [
        "! mkdir ~/.kaggle\n",
        "! cp kaggle.json ~/.kaggle/\n",
        "! chmod 600 ~/.kaggle/kaggle.json"
      ]
    },
    {
      "cell_type": "code",
      "execution_count": null,
      "metadata": {
        "colab": {
          "base_uri": "https://localhost:8080/"
        },
        "id": "zgYDzveUnuWI",
        "outputId": "ae2f6a95-01b2-4b6c-8cb8-58cb707f41c4"
      },
      "outputs": [
        {
          "output_type": "stream",
          "name": "stdout",
          "text": [
            "Downloading microsoft-malware-prediction.zip to /content\n",
            " 99% 1.53G/1.54G [00:17<00:00, 114MB/s]\n",
            "100% 1.54G/1.54G [00:17<00:00, 95.7MB/s]\n"
          ]
        }
      ],
      "source": [
        "! kaggle competitions download -c microsoft-malware-prediction"
      ]
    },
    {
      "cell_type": "code",
      "execution_count": null,
      "metadata": {
        "colab": {
          "base_uri": "https://localhost:8080/"
        },
        "id": "4T0itUEXqHjF",
        "outputId": "78886ccc-4020-46fa-c299-96615c80c565"
      },
      "outputs": [
        {
          "output_type": "stream",
          "name": "stdout",
          "text": [
            "Archive:  microsoft-malware-prediction.zip\n",
            "  inflating: sample_submission.csv   \n",
            "  inflating: test.csv                \n",
            "  inflating: train.csv               \n"
          ]
        }
      ],
      "source": [
        "! unzip microsoft-malware-prediction.zip"
      ]
    },
    {
      "cell_type": "code",
      "execution_count": null,
      "metadata": {
        "id": "KyW3gjoLlMgP"
      },
      "outputs": [],
      "source": [
        "import pandas as pd\n",
        "import numpy as np\n",
        "import lightgbm as lgb\n",
        "from scipy.sparse import vstack, csr_matrix, save_npz, load_npz\n",
        "from sklearn.preprocessing import LabelEncoder, OneHotEncoder\n",
        "from sklearn.model_selection import StratifiedKFold, cross_validate\n",
        "\n",
        "import gc\n",
        "gc.enable()"
      ]
    },
    {
      "cell_type": "markdown",
      "metadata": {
        "id": "cAtF8hDtnDsR"
      },
      "source": [
        "# Read Data"
      ]
    },
    {
      "cell_type": "code",
      "execution_count": null,
      "metadata": {
        "id": "_xTl1gqgqLYs"
      },
      "outputs": [],
      "source": [
        "from sklearn.metrics import classification_report\n"
      ]
    },
    {
      "cell_type": "code",
      "execution_count": null,
      "metadata": {
        "id": "i-bfnzqZlX7O"
      },
      "outputs": [],
      "source": [
        "# Define data types for memory efficiency\n",
        "dtypes = {\n",
        "        'MachineIdentifier':                                    'category',\n",
        "        'ProductName':                                          'category',\n",
        "        'EngineVersion':                                        'category',\n",
        "        'AppVersion':                                           'category',\n",
        "        'AvSigVersion':                                         'category',\n",
        "        'IsBeta':                                               'int8',\n",
        "        'RtpStateBitfield':                                     'float16',\n",
        "        'IsSxsPassiveMode':                                     'int8',\n",
        "        'DefaultBrowsersIdentifier':                            'float16',\n",
        "        'AVProductStatesIdentifier':                            'float32',\n",
        "        'AVProductsInstalled':                                  'float16',\n",
        "        'AVProductsEnabled':                                    'float16',\n",
        "        'HasTpm':                                               'int8',\n",
        "        'CountryIdentifier':                                    'int16',\n",
        "        'CityIdentifier':                                       'float32',\n",
        "        'OrganizationIdentifier':                               'float16',\n",
        "        'GeoNameIdentifier':                                    'float16',\n",
        "        'LocaleEnglishNameIdentifier':                          'int8',\n",
        "        'Platform':                                             'category',\n",
        "        'Processor':                                            'category',\n",
        "        'OsVer':                                                'category',\n",
        "        'OsBuild':                                              'int16',\n",
        "        'OsSuite':                                              'int16',\n",
        "        'OsPlatformSubRelease':                                 'category',\n",
        "        'OsBuildLab':                                           'category',\n",
        "        'SkuEdition':                                           'category',\n",
        "        'IsProtected':                                          'float16',\n",
        "        'AutoSampleOptIn':                                      'int8',\n",
        "        'PuaMode':                                              'category',\n",
        "        'SMode':                                                'float16',\n",
        "        'IeVerIdentifier':                                      'float16',\n",
        "        'SmartScreen':                                          'category',\n",
        "        'Firewall':                                             'float16',\n",
        "        'UacLuaenable':                                         'float32',\n",
        "        'Census_MDC2FormFactor':                                'category',\n",
        "        'Census_DeviceFamily':                                  'category',\n",
        "        'Census_OEMNameIdentifier':                             'float16',\n",
        "        'Census_OEMModelIdentifier':                            'float32',\n",
        "        'Census_ProcessorCoreCount':                            'float16',\n",
        "        'Census_ProcessorManufacturerIdentifier':               'float16',\n",
        "        'Census_ProcessorModelIdentifier':                      'float16',\n",
        "        'Census_ProcessorClass':                                'category',\n",
        "        'Census_PrimaryDiskTotalCapacity':                      'float32',\n",
        "        'Census_PrimaryDiskTypeName':                           'category',\n",
        "        'Census_SystemVolumeTotalCapacity':                     'float32',\n",
        "        'Census_HasOpticalDiskDrive':                           'int8',\n",
        "        'Census_TotalPhysicalRAM':                              'float32',\n",
        "        'Census_ChassisTypeName':                               'category',\n",
        "        'Census_InternalPrimaryDiagonalDisplaySizeInInches':    'float16',\n",
        "        'Census_InternalPrimaryDisplayResolutionHorizontal':    'float16',\n",
        "        'Census_InternalPrimaryDisplayResolutionVertical':      'float16',\n",
        "        'Census_PowerPlatformRoleName':                         'category',\n",
        "        'Census_InternalBatteryType':                           'category',\n",
        "        'Census_InternalBatteryNumberOfCharges':                'float32',\n",
        "        'Census_OSVersion':                                     'category',\n",
        "        'Census_OSArchitecture':                                'category',\n",
        "        'Census_OSBranch':                                      'category',\n",
        "        'Census_OSBuildNumber':                                 'int16',\n",
        "        'Census_OSBuildRevision':                               'int32',\n",
        "        'Census_OSEdition':                                     'category',\n",
        "        'Census_OSSkuName':                                     'category',\n",
        "        'Census_OSInstallTypeName':                             'category',\n",
        "        'Census_OSInstallLanguageIdentifier':                   'float16',\n",
        "        'Census_OSUILocaleIdentifier':                          'int16',\n",
        "        'Census_OSWUAutoUpdateOptionsName':                     'category',\n",
        "        'Census_IsPortableOperatingSystem':                     'int8',\n",
        "        'Census_GenuineStateName':                              'category',\n",
        "        'Census_ActivationChannel':                             'category',\n",
        "        'Census_IsFlightingInternal':                           'float16',\n",
        "        'Census_IsFlightsDisabled':                             'float16',\n",
        "        'Census_FlightRing':                                    'category',\n",
        "        'Census_ThresholdOptIn':                                'float16',\n",
        "        'Census_FirmwareManufacturerIdentifier':                'float16',\n",
        "        'Census_FirmwareVersionIdentifier':                     'float32',\n",
        "        'Census_IsSecureBootEnabled':                           'int8',\n",
        "        'Census_IsWIMBootEnabled':                              'float16',\n",
        "        'Census_IsVirtualDevice':                               'float16',\n",
        "        'Census_IsTouchEnabled':                                'int8',\n",
        "        'Census_IsPenCapable':                                  'int8',\n",
        "        'Census_IsAlwaysOnAlwaysConnectedCapable':              'float16',\n",
        "        'Wdft_IsGamer':                                         'float16',\n",
        "        'Wdft_RegionIdentifier':                                'float16',\n",
        "        'HasDetections':                                        'int8'\n",
        "        }"
      ]
    },
    {
      "cell_type": "code",
      "execution_count": null,
      "metadata": {
        "colab": {
          "base_uri": "https://localhost:8080/"
        },
        "id": "KDnQT3dKlW4w",
        "outputId": "6ab6524b-b149-497f-f411-4213c3c57f57"
      },
      "outputs": [
        {
          "output_type": "stream",
          "name": "stdout",
          "text": [
            "Download Train and Test Data.\n",
            "\n"
          ]
        }
      ],
      "source": [
        "\n",
        "print('Download Train and Test Data.\\n')\n",
        "train = pd.read_csv('train.csv', dtype=dtypes, low_memory=True)\n",
        "train['MachineIdentifier'] = train.index.astype('uint32')\n",
        "test  = pd.read_csv('test.csv',  dtype=dtypes, low_memory=True)\n",
        "test['MachineIdentifier']  = test.index.astype('uint32')"
      ]
    },
    {
      "cell_type": "code",
      "execution_count": null,
      "metadata": {
        "id": "Q0FK6gI9sKyD",
        "colab": {
          "base_uri": "https://localhost:8080/"
        },
        "outputId": "818f3184-e170-455b-d83e-c302fd184b72"
      },
      "outputs": [
        {
          "output_type": "stream",
          "name": "stdout",
          "text": [
            "<class 'pandas.core.frame.DataFrame'>\n",
            "RangeIndex: 7853253 entries, 0 to 7853252\n",
            "Data columns (total 82 columns):\n",
            " #   Column                                             Dtype   \n",
            "---  ------                                             -----   \n",
            " 0   MachineIdentifier                                  uint64  \n",
            " 1   ProductName                                        category\n",
            " 2   EngineVersion                                      category\n",
            " 3   AppVersion                                         category\n",
            " 4   AvSigVersion                                       category\n",
            " 5   IsBeta                                             int8    \n",
            " 6   RtpStateBitfield                                   float16 \n",
            " 7   IsSxsPassiveMode                                   int8    \n",
            " 8   DefaultBrowsersIdentifier                          float16 \n",
            " 9   AVProductStatesIdentifier                          float32 \n",
            " 10  AVProductsInstalled                                float16 \n",
            " 11  AVProductsEnabled                                  float16 \n",
            " 12  HasTpm                                             int8    \n",
            " 13  CountryIdentifier                                  int16   \n",
            " 14  CityIdentifier                                     float32 \n",
            " 15  OrganizationIdentifier                             float16 \n",
            " 16  GeoNameIdentifier                                  float16 \n",
            " 17  LocaleEnglishNameIdentifier                        int8    \n",
            " 18  Platform                                           category\n",
            " 19  Processor                                          category\n",
            " 20  OsVer                                              category\n",
            " 21  OsBuild                                            int16   \n",
            " 22  OsSuite                                            int16   \n",
            " 23  OsPlatformSubRelease                               category\n",
            " 24  OsBuildLab                                         category\n",
            " 25  SkuEdition                                         category\n",
            " 26  IsProtected                                        float16 \n",
            " 27  AutoSampleOptIn                                    int8    \n",
            " 28  PuaMode                                            category\n",
            " 29  SMode                                              float16 \n",
            " 30  IeVerIdentifier                                    float16 \n",
            " 31  SmartScreen                                        category\n",
            " 32  Firewall                                           float16 \n",
            " 33  UacLuaenable                                       float32 \n",
            " 34  Census_MDC2FormFactor                              category\n",
            " 35  Census_DeviceFamily                                category\n",
            " 36  Census_OEMNameIdentifier                           float16 \n",
            " 37  Census_OEMModelIdentifier                          float32 \n",
            " 38  Census_ProcessorCoreCount                          float16 \n",
            " 39  Census_ProcessorManufacturerIdentifier             float16 \n",
            " 40  Census_ProcessorModelIdentifier                    float16 \n",
            " 41  Census_ProcessorClass                              category\n",
            " 42  Census_PrimaryDiskTotalCapacity                    float32 \n",
            " 43  Census_PrimaryDiskTypeName                         category\n",
            " 44  Census_SystemVolumeTotalCapacity                   float32 \n",
            " 45  Census_HasOpticalDiskDrive                         int8    \n",
            " 46  Census_TotalPhysicalRAM                            float32 \n",
            " 47  Census_ChassisTypeName                             category\n",
            " 48  Census_InternalPrimaryDiagonalDisplaySizeInInches  float16 \n",
            " 49  Census_InternalPrimaryDisplayResolutionHorizontal  float16 \n",
            " 50  Census_InternalPrimaryDisplayResolutionVertical    float16 \n",
            " 51  Census_PowerPlatformRoleName                       category\n",
            " 52  Census_InternalBatteryType                         category\n",
            " 53  Census_InternalBatteryNumberOfCharges              float32 \n",
            " 54  Census_OSVersion                                   category\n",
            " 55  Census_OSArchitecture                              category\n",
            " 56  Census_OSBranch                                    category\n",
            " 57  Census_OSBuildNumber                               int16   \n",
            " 58  Census_OSBuildRevision                             int32   \n",
            " 59  Census_OSEdition                                   category\n",
            " 60  Census_OSSkuName                                   category\n",
            " 61  Census_OSInstallTypeName                           category\n",
            " 62  Census_OSInstallLanguageIdentifier                 float16 \n",
            " 63  Census_OSUILocaleIdentifier                        int16   \n",
            " 64  Census_OSWUAutoUpdateOptionsName                   category\n",
            " 65  Census_IsPortableOperatingSystem                   int8    \n",
            " 66  Census_GenuineStateName                            category\n",
            " 67  Census_ActivationChannel                           category\n",
            " 68  Census_IsFlightingInternal                         float16 \n",
            " 69  Census_IsFlightsDisabled                           float16 \n",
            " 70  Census_FlightRing                                  category\n",
            " 71  Census_ThresholdOptIn                              float16 \n",
            " 72  Census_FirmwareManufacturerIdentifier              float16 \n",
            " 73  Census_FirmwareVersionIdentifier                   float32 \n",
            " 74  Census_IsSecureBootEnabled                         int8    \n",
            " 75  Census_IsWIMBootEnabled                            float16 \n",
            " 76  Census_IsVirtualDevice                             float16 \n",
            " 77  Census_IsTouchEnabled                              int8    \n",
            " 78  Census_IsPenCapable                                int8    \n",
            " 79  Census_IsAlwaysOnAlwaysConnectedCapable            float16 \n",
            " 80  Wdft_IsGamer                                       float16 \n",
            " 81  Wdft_RegionIdentifier                              float16 \n",
            "dtypes: category(29), float16(27), float32(9), int16(5), int32(1), int8(10), uint64(1)\n",
            "memory usage: 1.1 GB\n"
          ]
        }
      ],
      "source": [
        "test.info()"
      ]
    },
    {
      "cell_type": "code",
      "execution_count": null,
      "metadata": {
        "id": "8mECpkztsR0T",
        "colab": {
          "base_uri": "https://localhost:8080/"
        },
        "outputId": "db843cc2-dc69-4e2d-d2b8-51fe221528ed"
      },
      "outputs": [
        {
          "output_type": "stream",
          "name": "stdout",
          "text": [
            "<class 'pandas.core.frame.DataFrame'>\n",
            "RangeIndex: 8921483 entries, 0 to 8921482\n",
            "Data columns (total 83 columns):\n",
            " #   Column                                             Dtype   \n",
            "---  ------                                             -----   \n",
            " 0   MachineIdentifier                                  uint64  \n",
            " 1   ProductName                                        category\n",
            " 2   EngineVersion                                      category\n",
            " 3   AppVersion                                         category\n",
            " 4   AvSigVersion                                       category\n",
            " 5   IsBeta                                             int8    \n",
            " 6   RtpStateBitfield                                   float16 \n",
            " 7   IsSxsPassiveMode                                   int8    \n",
            " 8   DefaultBrowsersIdentifier                          float16 \n",
            " 9   AVProductStatesIdentifier                          float32 \n",
            " 10  AVProductsInstalled                                float16 \n",
            " 11  AVProductsEnabled                                  float16 \n",
            " 12  HasTpm                                             int8    \n",
            " 13  CountryIdentifier                                  int16   \n",
            " 14  CityIdentifier                                     float32 \n",
            " 15  OrganizationIdentifier                             float16 \n",
            " 16  GeoNameIdentifier                                  float16 \n",
            " 17  LocaleEnglishNameIdentifier                        int8    \n",
            " 18  Platform                                           category\n",
            " 19  Processor                                          category\n",
            " 20  OsVer                                              category\n",
            " 21  OsBuild                                            int16   \n",
            " 22  OsSuite                                            int16   \n",
            " 23  OsPlatformSubRelease                               category\n",
            " 24  OsBuildLab                                         category\n",
            " 25  SkuEdition                                         category\n",
            " 26  IsProtected                                        float16 \n",
            " 27  AutoSampleOptIn                                    int8    \n",
            " 28  PuaMode                                            category\n",
            " 29  SMode                                              float16 \n",
            " 30  IeVerIdentifier                                    float16 \n",
            " 31  SmartScreen                                        category\n",
            " 32  Firewall                                           float16 \n",
            " 33  UacLuaenable                                       float32 \n",
            " 34  Census_MDC2FormFactor                              category\n",
            " 35  Census_DeviceFamily                                category\n",
            " 36  Census_OEMNameIdentifier                           float16 \n",
            " 37  Census_OEMModelIdentifier                          float32 \n",
            " 38  Census_ProcessorCoreCount                          float16 \n",
            " 39  Census_ProcessorManufacturerIdentifier             float16 \n",
            " 40  Census_ProcessorModelIdentifier                    float16 \n",
            " 41  Census_ProcessorClass                              category\n",
            " 42  Census_PrimaryDiskTotalCapacity                    float32 \n",
            " 43  Census_PrimaryDiskTypeName                         category\n",
            " 44  Census_SystemVolumeTotalCapacity                   float32 \n",
            " 45  Census_HasOpticalDiskDrive                         int8    \n",
            " 46  Census_TotalPhysicalRAM                            float32 \n",
            " 47  Census_ChassisTypeName                             category\n",
            " 48  Census_InternalPrimaryDiagonalDisplaySizeInInches  float16 \n",
            " 49  Census_InternalPrimaryDisplayResolutionHorizontal  float16 \n",
            " 50  Census_InternalPrimaryDisplayResolutionVertical    float16 \n",
            " 51  Census_PowerPlatformRoleName                       category\n",
            " 52  Census_InternalBatteryType                         category\n",
            " 53  Census_InternalBatteryNumberOfCharges              float32 \n",
            " 54  Census_OSVersion                                   category\n",
            " 55  Census_OSArchitecture                              category\n",
            " 56  Census_OSBranch                                    category\n",
            " 57  Census_OSBuildNumber                               int16   \n",
            " 58  Census_OSBuildRevision                             int32   \n",
            " 59  Census_OSEdition                                   category\n",
            " 60  Census_OSSkuName                                   category\n",
            " 61  Census_OSInstallTypeName                           category\n",
            " 62  Census_OSInstallLanguageIdentifier                 float16 \n",
            " 63  Census_OSUILocaleIdentifier                        int16   \n",
            " 64  Census_OSWUAutoUpdateOptionsName                   category\n",
            " 65  Census_IsPortableOperatingSystem                   int8    \n",
            " 66  Census_GenuineStateName                            category\n",
            " 67  Census_ActivationChannel                           category\n",
            " 68  Census_IsFlightingInternal                         float16 \n",
            " 69  Census_IsFlightsDisabled                           float16 \n",
            " 70  Census_FlightRing                                  category\n",
            " 71  Census_ThresholdOptIn                              float16 \n",
            " 72  Census_FirmwareManufacturerIdentifier              float16 \n",
            " 73  Census_FirmwareVersionIdentifier                   float32 \n",
            " 74  Census_IsSecureBootEnabled                         int8    \n",
            " 75  Census_IsWIMBootEnabled                            float16 \n",
            " 76  Census_IsVirtualDevice                             float16 \n",
            " 77  Census_IsTouchEnabled                              int8    \n",
            " 78  Census_IsPenCapable                                int8    \n",
            " 79  Census_IsAlwaysOnAlwaysConnectedCapable            float16 \n",
            " 80  Wdft_IsGamer                                       float16 \n",
            " 81  Wdft_RegionIdentifier                              float16 \n",
            " 82  HasDetections                                      int8    \n",
            "dtypes: category(29), float16(27), float32(9), int16(5), int32(1), int8(11), uint64(1)\n",
            "memory usage: 1.3 GB\n"
          ]
        }
      ],
      "source": [
        "train.info()"
      ]
    },
    {
      "cell_type": "markdown",
      "metadata": {
        "id": "UdHxvqPLWOLu"
      },
      "source": [
        "# LightGBM Gradient Boosted Decision Tree"
      ]
    },
    {
      "cell_type": "code",
      "execution_count": null,
      "metadata": {
        "id": "5G3Bit8aHr-3"
      },
      "outputs": [],
      "source": [
        "# Use a smaller sample due to RAM limitations\n",
        "subset = train.sample(n=500000, random_state=42)\n",
        "X_train = subset.drop('HasDetections', axis=1)\n",
        "Y_train = subset['HasDetections']"
      ]
    },
    {
      "cell_type": "code",
      "execution_count": null,
      "metadata": {
        "id": "gBBBbVSRGBog"
      },
      "outputs": [],
      "source": [
        "# Preprocessing - encode categorical columns into numerical format\n",
        "category_columns = X_train.select_dtypes(include=['category']).columns\n",
        "\n",
        "category_columns_array = category_columns.tolist()\n",
        "\n",
        "le = LabelEncoder()\n",
        "for category in category_columns_array:\n",
        "  X_train[category] = le.fit_transform(X_train[category])"
      ]
    },
    {
      "cell_type": "code",
      "execution_count": null,
      "metadata": {
        "id": "GF30A_UZxQfw"
      },
      "outputs": [],
      "source": [
        "# Function to report metrics\n",
        "\n",
        "scoring_metrics = ['accuracy', 'precision', 'recall', 'f1']\n",
        "metrics = ['test_accuracy', 'test_precision', 'test_recall', 'test_f1']\n",
        "\n",
        "def print_metrics(results, metrics=metrics):\n",
        "  for metric in metrics:\n",
        "    print(f\"{metric}:\")\n",
        "    for i, score in enumerate(results[metric]):\n",
        "      print(f\"Fold {i+1}: {round(score, 3)}\", end=\"\\t\")\n",
        "    print(\"\\n\")\n"
      ]
    },
    {
      "cell_type": "code",
      "execution_count": null,
      "metadata": {
        "id": "EAFWUtAOWeeI"
      },
      "outputs": [],
      "source": [
        "parameters = {\n",
        "    'objective': 'binary',\n",
        "    'boosting_type': 'gbdt'\n",
        "}\n",
        "\n",
        "# stratified 5-fold cross validation\n",
        "folds = 5\n",
        "skf = StratifiedKFold(n_splits=folds, shuffle=True, random_state=42)\n",
        "\n"
      ]
    },
    {
      "cell_type": "code",
      "execution_count": null,
      "metadata": {
        "colab": {
          "base_uri": "https://localhost:8080/"
        },
        "id": "nmZSnfw0wV1l",
        "outputId": "7b397781-552c-4b65-e3f3-ae945d198283"
      },
      "outputs": [
        {
          "output_type": "stream",
          "name": "stdout",
          "text": [
            "[LightGBM] [Info] Number of positive: 199962, number of negative: 200038\n",
            "[LightGBM] [Info] Auto-choosing row-wise multi-threading, the overhead of testing was 0.200240 seconds.\n",
            "You can set `force_row_wise=true` to remove the overhead.\n",
            "And if memory is not enough, you can set `force_col_wise=true`.\n",
            "[LightGBM] [Info] Total Bins 5327\n",
            "[LightGBM] [Info] Number of data points in the train set: 400000, number of used features: 80\n",
            "[LightGBM] [Info] [binary:BoostFromScore]: pavg=0.499905 -> initscore=-0.000380\n",
            "[LightGBM] [Info] Start training from score -0.000380\n",
            "[LightGBM] [Info] Number of positive: 199962, number of negative: 200038\n",
            "[LightGBM] [Info] Auto-choosing row-wise multi-threading, the overhead of testing was 0.196920 seconds.\n",
            "You can set `force_row_wise=true` to remove the overhead.\n",
            "And if memory is not enough, you can set `force_col_wise=true`.\n",
            "[LightGBM] [Info] Total Bins 5281\n",
            "[LightGBM] [Info] Number of data points in the train set: 400000, number of used features: 80\n",
            "[LightGBM] [Info] [binary:BoostFromScore]: pavg=0.499905 -> initscore=-0.000380\n",
            "[LightGBM] [Info] Start training from score -0.000380\n",
            "[LightGBM] [Info] Number of positive: 199962, number of negative: 200038\n",
            "[LightGBM] [Info] Auto-choosing row-wise multi-threading, the overhead of testing was 0.241182 seconds.\n",
            "You can set `force_row_wise=true` to remove the overhead.\n",
            "And if memory is not enough, you can set `force_col_wise=true`.\n",
            "[LightGBM] [Info] Total Bins 5289\n",
            "[LightGBM] [Info] Number of data points in the train set: 400000, number of used features: 80\n",
            "[LightGBM] [Info] [binary:BoostFromScore]: pavg=0.499905 -> initscore=-0.000380\n",
            "[LightGBM] [Info] Start training from score -0.000380\n",
            "[LightGBM] [Info] Number of positive: 199963, number of negative: 200037\n",
            "[LightGBM] [Info] Auto-choosing row-wise multi-threading, the overhead of testing was 0.195745 seconds.\n",
            "You can set `force_row_wise=true` to remove the overhead.\n",
            "And if memory is not enough, you can set `force_col_wise=true`.\n",
            "[LightGBM] [Info] Total Bins 5313\n",
            "[LightGBM] [Info] Number of data points in the train set: 400000, number of used features: 80\n",
            "[LightGBM] [Info] [binary:BoostFromScore]: pavg=0.499908 -> initscore=-0.000370\n",
            "[LightGBM] [Info] Start training from score -0.000370\n",
            "[LightGBM] [Info] Number of positive: 199963, number of negative: 200037\n",
            "[LightGBM] [Info] Auto-choosing row-wise multi-threading, the overhead of testing was 0.197644 seconds.\n",
            "You can set `force_row_wise=true` to remove the overhead.\n",
            "And if memory is not enough, you can set `force_col_wise=true`.\n",
            "[LightGBM] [Info] Total Bins 5340\n",
            "[LightGBM] [Info] Number of data points in the train set: 400000, number of used features: 80\n",
            "[LightGBM] [Info] [binary:BoostFromScore]: pavg=0.499908 -> initscore=-0.000370\n",
            "[LightGBM] [Info] Start training from score -0.000370\n",
            "test_accuracy:\n",
            "Fold 1: 0.653\tFold 2: 0.65\tFold 3: 0.651\tFold 4: 0.652\tFold 5: 0.651\t\n",
            "\n",
            "test_precision:\n",
            "Fold 1: 0.656\tFold 2: 0.654\tFold 3: 0.653\tFold 4: 0.653\tFold 5: 0.653\t\n",
            "\n",
            "test_recall:\n",
            "Fold 1: 0.643\tFold 2: 0.637\tFold 3: 0.642\tFold 4: 0.649\tFold 5: 0.643\t\n",
            "\n",
            "test_f1:\n",
            "Fold 1: 0.65\tFold 2: 0.645\tFold 3: 0.648\tFold 4: 0.651\tFold 5: 0.648\t\n",
            "\n"
          ]
        }
      ],
      "source": [
        "# No regularization\n",
        "\n",
        "cv_results = cross_validate(\n",
        "    lgb.LGBMClassifier(**parameters),\n",
        "    X_train, Y_train,\n",
        "    cv=skf,\n",
        "    scoring=scoring_metrics,\n",
        "    verbose=1,\n",
        ")\n",
        "\n",
        "print_metrics(cv_results)"
      ]
    },
    {
      "cell_type": "code",
      "execution_count": null,
      "metadata": {
        "id": "hbvjg-1Dueuq",
        "colab": {
          "base_uri": "https://localhost:8080/"
        },
        "outputId": "f355cde1-798f-4560-d894-2cee47fe63d4"
      },
      "outputs": [
        {
          "output_type": "stream",
          "name": "stdout",
          "text": [
            "[LightGBM] [Warning] lambda_l1 is set=0.1, reg_alpha=0.0 will be ignored. Current value: lambda_l1=0.1\n",
            "[LightGBM] [Warning] lambda_l1 is set=0.1, reg_alpha=0.0 will be ignored. Current value: lambda_l1=0.1\n",
            "[LightGBM] [Info] Number of positive: 199962, number of negative: 200038\n",
            "[LightGBM] [Info] Auto-choosing row-wise multi-threading, the overhead of testing was 0.196050 seconds.\n",
            "You can set `force_row_wise=true` to remove the overhead.\n",
            "And if memory is not enough, you can set `force_col_wise=true`.\n",
            "[LightGBM] [Info] Total Bins 5327\n",
            "[LightGBM] [Info] Number of data points in the train set: 400000, number of used features: 80\n",
            "[LightGBM] [Info] [binary:BoostFromScore]: pavg=0.499905 -> initscore=-0.000380\n",
            "[LightGBM] [Info] Start training from score -0.000380\n",
            "[LightGBM] [Warning] lambda_l1 is set=0.1, reg_alpha=0.0 will be ignored. Current value: lambda_l1=0.1\n",
            "[LightGBM] [Warning] lambda_l1 is set=0.1, reg_alpha=0.0 will be ignored. Current value: lambda_l1=0.1\n",
            "[LightGBM] [Warning] lambda_l1 is set=0.1, reg_alpha=0.0 will be ignored. Current value: lambda_l1=0.1\n",
            "[LightGBM] [Info] Number of positive: 199962, number of negative: 200038\n",
            "[LightGBM] [Info] Auto-choosing row-wise multi-threading, the overhead of testing was 0.298405 seconds.\n",
            "You can set `force_row_wise=true` to remove the overhead.\n",
            "And if memory is not enough, you can set `force_col_wise=true`.\n",
            "[LightGBM] [Info] Total Bins 5281\n",
            "[LightGBM] [Info] Number of data points in the train set: 400000, number of used features: 80\n",
            "[LightGBM] [Info] [binary:BoostFromScore]: pavg=0.499905 -> initscore=-0.000380\n",
            "[LightGBM] [Info] Start training from score -0.000380\n",
            "[LightGBM] [Warning] lambda_l1 is set=0.1, reg_alpha=0.0 will be ignored. Current value: lambda_l1=0.1\n",
            "[LightGBM] [Warning] lambda_l1 is set=0.1, reg_alpha=0.0 will be ignored. Current value: lambda_l1=0.1\n",
            "[LightGBM] [Warning] lambda_l1 is set=0.1, reg_alpha=0.0 will be ignored. Current value: lambda_l1=0.1\n",
            "[LightGBM] [Info] Number of positive: 199962, number of negative: 200038\n",
            "[LightGBM] [Info] Auto-choosing row-wise multi-threading, the overhead of testing was 0.193420 seconds.\n",
            "You can set `force_row_wise=true` to remove the overhead.\n",
            "And if memory is not enough, you can set `force_col_wise=true`.\n",
            "[LightGBM] [Info] Total Bins 5289\n",
            "[LightGBM] [Info] Number of data points in the train set: 400000, number of used features: 80\n",
            "[LightGBM] [Info] [binary:BoostFromScore]: pavg=0.499905 -> initscore=-0.000380\n",
            "[LightGBM] [Info] Start training from score -0.000380\n",
            "[LightGBM] [Warning] lambda_l1 is set=0.1, reg_alpha=0.0 will be ignored. Current value: lambda_l1=0.1\n",
            "[LightGBM] [Warning] lambda_l1 is set=0.1, reg_alpha=0.0 will be ignored. Current value: lambda_l1=0.1\n",
            "[LightGBM] [Warning] lambda_l1 is set=0.1, reg_alpha=0.0 will be ignored. Current value: lambda_l1=0.1\n",
            "[LightGBM] [Info] Number of positive: 199963, number of negative: 200037\n",
            "[LightGBM] [Info] Auto-choosing row-wise multi-threading, the overhead of testing was 0.198604 seconds.\n",
            "You can set `force_row_wise=true` to remove the overhead.\n",
            "And if memory is not enough, you can set `force_col_wise=true`.\n",
            "[LightGBM] [Info] Total Bins 5313\n",
            "[LightGBM] [Info] Number of data points in the train set: 400000, number of used features: 80\n",
            "[LightGBM] [Info] [binary:BoostFromScore]: pavg=0.499908 -> initscore=-0.000370\n",
            "[LightGBM] [Info] Start training from score -0.000370\n",
            "[LightGBM] [Warning] lambda_l1 is set=0.1, reg_alpha=0.0 will be ignored. Current value: lambda_l1=0.1\n",
            "[LightGBM] [Warning] lambda_l1 is set=0.1, reg_alpha=0.0 will be ignored. Current value: lambda_l1=0.1\n",
            "[LightGBM] [Warning] lambda_l1 is set=0.1, reg_alpha=0.0 will be ignored. Current value: lambda_l1=0.1\n",
            "[LightGBM] [Info] Number of positive: 199963, number of negative: 200037\n",
            "[LightGBM] [Info] Auto-choosing row-wise multi-threading, the overhead of testing was 0.290705 seconds.\n",
            "You can set `force_row_wise=true` to remove the overhead.\n",
            "And if memory is not enough, you can set `force_col_wise=true`.\n",
            "[LightGBM] [Info] Total Bins 5340\n",
            "[LightGBM] [Info] Number of data points in the train set: 400000, number of used features: 80\n",
            "[LightGBM] [Info] [binary:BoostFromScore]: pavg=0.499908 -> initscore=-0.000370\n",
            "[LightGBM] [Info] Start training from score -0.000370\n",
            "[LightGBM] [Warning] lambda_l1 is set=0.1, reg_alpha=0.0 will be ignored. Current value: lambda_l1=0.1\n",
            "test_accuracy:\n",
            "Fold 1: 0.652\tFold 2: 0.65\tFold 3: 0.651\tFold 4: 0.652\tFold 5: 0.651\t\n",
            "\n",
            "test_precision:\n",
            "Fold 1: 0.654\tFold 2: 0.654\tFold 3: 0.654\tFold 4: 0.653\tFold 5: 0.653\t\n",
            "\n",
            "test_recall:\n",
            "Fold 1: 0.645\tFold 2: 0.637\tFold 3: 0.643\tFold 4: 0.649\tFold 5: 0.643\t\n",
            "\n",
            "test_f1:\n",
            "Fold 1: 0.649\tFold 2: 0.645\tFold 3: 0.648\tFold 4: 0.651\tFold 5: 0.648\t\n",
            "\n"
          ]
        }
      ],
      "source": [
        "# L1 regularization\n",
        "parameters['lambda_l1'] = 0.1\n",
        "\n",
        "cv_results_l1 = cross_validate(\n",
        "    lgb.LGBMClassifier(**parameters),\n",
        "    X_train, Y_train,\n",
        "    cv=skf,\n",
        "    scoring=scoring_metrics,\n",
        "    verbose=1,\n",
        ")\n",
        "\n",
        "print_metrics(cv_results_l1)"
      ]
    },
    {
      "cell_type": "code",
      "execution_count": null,
      "metadata": {
        "id": "yCZCX6eTvApe",
        "colab": {
          "base_uri": "https://localhost:8080/"
        },
        "outputId": "c902ae13-7dac-43bb-c821-5ff57770e78d"
      },
      "outputs": [
        {
          "output_type": "stream",
          "name": "stdout",
          "text": [
            "[LightGBM] [Warning] lambda_l2 is set=0.1, reg_lambda=0.0 will be ignored. Current value: lambda_l2=0.1\n",
            "[LightGBM] [Warning] lambda_l1 is set=0, reg_alpha=0.0 will be ignored. Current value: lambda_l1=0\n",
            "[LightGBM] [Warning] lambda_l2 is set=0.1, reg_lambda=0.0 will be ignored. Current value: lambda_l2=0.1\n",
            "[LightGBM] [Warning] lambda_l1 is set=0, reg_alpha=0.0 will be ignored. Current value: lambda_l1=0\n",
            "[LightGBM] [Info] Number of positive: 199962, number of negative: 200038\n",
            "[LightGBM] [Info] Auto-choosing row-wise multi-threading, the overhead of testing was 0.194105 seconds.\n",
            "You can set `force_row_wise=true` to remove the overhead.\n",
            "And if memory is not enough, you can set `force_col_wise=true`.\n",
            "[LightGBM] [Info] Total Bins 5327\n",
            "[LightGBM] [Info] Number of data points in the train set: 400000, number of used features: 80\n",
            "[LightGBM] [Info] [binary:BoostFromScore]: pavg=0.499905 -> initscore=-0.000380\n",
            "[LightGBM] [Info] Start training from score -0.000380\n",
            "[LightGBM] [Warning] lambda_l2 is set=0.1, reg_lambda=0.0 will be ignored. Current value: lambda_l2=0.1\n",
            "[LightGBM] [Warning] lambda_l1 is set=0, reg_alpha=0.0 will be ignored. Current value: lambda_l1=0\n",
            "[LightGBM] [Warning] lambda_l2 is set=0.1, reg_lambda=0.0 will be ignored. Current value: lambda_l2=0.1\n",
            "[LightGBM] [Warning] lambda_l1 is set=0, reg_alpha=0.0 will be ignored. Current value: lambda_l1=0\n",
            "[LightGBM] [Warning] lambda_l2 is set=0.1, reg_lambda=0.0 will be ignored. Current value: lambda_l2=0.1\n",
            "[LightGBM] [Warning] lambda_l1 is set=0, reg_alpha=0.0 will be ignored. Current value: lambda_l1=0\n",
            "[LightGBM] [Info] Number of positive: 199962, number of negative: 200038\n",
            "[LightGBM] [Info] Auto-choosing row-wise multi-threading, the overhead of testing was 0.283249 seconds.\n",
            "You can set `force_row_wise=true` to remove the overhead.\n",
            "And if memory is not enough, you can set `force_col_wise=true`.\n",
            "[LightGBM] [Info] Total Bins 5281\n",
            "[LightGBM] [Info] Number of data points in the train set: 400000, number of used features: 80\n",
            "[LightGBM] [Info] [binary:BoostFromScore]: pavg=0.499905 -> initscore=-0.000380\n",
            "[LightGBM] [Info] Start training from score -0.000380\n",
            "[LightGBM] [Warning] lambda_l2 is set=0.1, reg_lambda=0.0 will be ignored. Current value: lambda_l2=0.1\n",
            "[LightGBM] [Warning] lambda_l1 is set=0, reg_alpha=0.0 will be ignored. Current value: lambda_l1=0\n",
            "[LightGBM] [Warning] lambda_l2 is set=0.1, reg_lambda=0.0 will be ignored. Current value: lambda_l2=0.1\n",
            "[LightGBM] [Warning] lambda_l1 is set=0, reg_alpha=0.0 will be ignored. Current value: lambda_l1=0\n",
            "[LightGBM] [Warning] lambda_l2 is set=0.1, reg_lambda=0.0 will be ignored. Current value: lambda_l2=0.1\n",
            "[LightGBM] [Warning] lambda_l1 is set=0, reg_alpha=0.0 will be ignored. Current value: lambda_l1=0\n",
            "[LightGBM] [Info] Number of positive: 199962, number of negative: 200038\n",
            "[LightGBM] [Info] Auto-choosing row-wise multi-threading, the overhead of testing was 0.201219 seconds.\n",
            "You can set `force_row_wise=true` to remove the overhead.\n",
            "And if memory is not enough, you can set `force_col_wise=true`.\n",
            "[LightGBM] [Info] Total Bins 5289\n",
            "[LightGBM] [Info] Number of data points in the train set: 400000, number of used features: 80\n",
            "[LightGBM] [Info] [binary:BoostFromScore]: pavg=0.499905 -> initscore=-0.000380\n",
            "[LightGBM] [Info] Start training from score -0.000380\n",
            "[LightGBM] [Warning] lambda_l2 is set=0.1, reg_lambda=0.0 will be ignored. Current value: lambda_l2=0.1\n",
            "[LightGBM] [Warning] lambda_l1 is set=0, reg_alpha=0.0 will be ignored. Current value: lambda_l1=0\n",
            "[LightGBM] [Warning] lambda_l2 is set=0.1, reg_lambda=0.0 will be ignored. Current value: lambda_l2=0.1\n",
            "[LightGBM] [Warning] lambda_l1 is set=0, reg_alpha=0.0 will be ignored. Current value: lambda_l1=0\n",
            "[LightGBM] [Warning] lambda_l2 is set=0.1, reg_lambda=0.0 will be ignored. Current value: lambda_l2=0.1\n",
            "[LightGBM] [Warning] lambda_l1 is set=0, reg_alpha=0.0 will be ignored. Current value: lambda_l1=0\n",
            "[LightGBM] [Info] Number of positive: 199963, number of negative: 200037\n",
            "[LightGBM] [Info] Auto-choosing row-wise multi-threading, the overhead of testing was 0.206495 seconds.\n",
            "You can set `force_row_wise=true` to remove the overhead.\n",
            "And if memory is not enough, you can set `force_col_wise=true`.\n",
            "[LightGBM] [Info] Total Bins 5313\n",
            "[LightGBM] [Info] Number of data points in the train set: 400000, number of used features: 80\n",
            "[LightGBM] [Info] [binary:BoostFromScore]: pavg=0.499908 -> initscore=-0.000370\n",
            "[LightGBM] [Info] Start training from score -0.000370\n",
            "[LightGBM] [Warning] lambda_l2 is set=0.1, reg_lambda=0.0 will be ignored. Current value: lambda_l2=0.1\n",
            "[LightGBM] [Warning] lambda_l1 is set=0, reg_alpha=0.0 will be ignored. Current value: lambda_l1=0\n",
            "[LightGBM] [Warning] lambda_l2 is set=0.1, reg_lambda=0.0 will be ignored. Current value: lambda_l2=0.1\n",
            "[LightGBM] [Warning] lambda_l1 is set=0, reg_alpha=0.0 will be ignored. Current value: lambda_l1=0\n",
            "[LightGBM] [Warning] lambda_l2 is set=0.1, reg_lambda=0.0 will be ignored. Current value: lambda_l2=0.1\n",
            "[LightGBM] [Warning] lambda_l1 is set=0, reg_alpha=0.0 will be ignored. Current value: lambda_l1=0\n",
            "[LightGBM] [Info] Number of positive: 199963, number of negative: 200037\n",
            "[LightGBM] [Info] Auto-choosing row-wise multi-threading, the overhead of testing was 0.284059 seconds.\n",
            "You can set `force_row_wise=true` to remove the overhead.\n",
            "And if memory is not enough, you can set `force_col_wise=true`.\n",
            "[LightGBM] [Info] Total Bins 5340\n",
            "[LightGBM] [Info] Number of data points in the train set: 400000, number of used features: 80\n",
            "[LightGBM] [Info] [binary:BoostFromScore]: pavg=0.499908 -> initscore=-0.000370\n",
            "[LightGBM] [Info] Start training from score -0.000370\n",
            "[LightGBM] [Warning] lambda_l2 is set=0.1, reg_lambda=0.0 will be ignored. Current value: lambda_l2=0.1\n",
            "[LightGBM] [Warning] lambda_l1 is set=0, reg_alpha=0.0 will be ignored. Current value: lambda_l1=0\n",
            "test_accuracy:\n",
            "Fold 1: 0.653\tFold 2: 0.65\tFold 3: 0.65\tFold 4: 0.651\tFold 5: 0.65\t\n",
            "\n",
            "test_precision:\n",
            "Fold 1: 0.655\tFold 2: 0.654\tFold 3: 0.653\tFold 4: 0.653\tFold 5: 0.653\t\n",
            "\n",
            "test_recall:\n",
            "Fold 1: 0.644\tFold 2: 0.636\tFold 3: 0.642\tFold 4: 0.647\tFold 5: 0.643\t\n",
            "\n",
            "test_f1:\n",
            "Fold 1: 0.65\tFold 2: 0.645\tFold 3: 0.647\tFold 4: 0.65\tFold 5: 0.648\t\n",
            "\n"
          ]
        }
      ],
      "source": [
        "# L2 regularization\n",
        "parameters['lambda_l1'] = 0\n",
        "parameters['lambda_l2'] = 0.1\n",
        "cv_results_l2 = cross_validate(\n",
        "    lgb.LGBMClassifier(**parameters),\n",
        "    X_train, Y_train,\n",
        "    cv=skf,\n",
        "    scoring=scoring_metrics,\n",
        "    verbose=1,\n",
        ")\n",
        "\n",
        "print_metrics(cv_results_l2)"
      ]
    },
    {
      "cell_type": "code",
      "execution_count": null,
      "metadata": {
        "id": "OJ4kFaA2vG9r",
        "colab": {
          "base_uri": "https://localhost:8080/"
        },
        "outputId": "08fad8a9-656f-4f17-fe27-a59293852017"
      },
      "outputs": [
        {
          "output_type": "stream",
          "name": "stdout",
          "text": [
            "[LightGBM] [Warning] lambda_l2 is set=0.1, reg_lambda=0.0 will be ignored. Current value: lambda_l2=0.1\n",
            "[LightGBM] [Warning] lambda_l1 is set=0.1, reg_alpha=0.0 will be ignored. Current value: lambda_l1=0.1\n",
            "[LightGBM] [Warning] lambda_l2 is set=0.1, reg_lambda=0.0 will be ignored. Current value: lambda_l2=0.1\n",
            "[LightGBM] [Warning] lambda_l1 is set=0.1, reg_alpha=0.0 will be ignored. Current value: lambda_l1=0.1\n",
            "[LightGBM] [Info] Number of positive: 199962, number of negative: 200038\n",
            "[LightGBM] [Info] Auto-choosing row-wise multi-threading, the overhead of testing was 0.190087 seconds.\n",
            "You can set `force_row_wise=true` to remove the overhead.\n",
            "And if memory is not enough, you can set `force_col_wise=true`.\n",
            "[LightGBM] [Info] Total Bins 5327\n",
            "[LightGBM] [Info] Number of data points in the train set: 400000, number of used features: 80\n",
            "[LightGBM] [Info] [binary:BoostFromScore]: pavg=0.499905 -> initscore=-0.000380\n",
            "[LightGBM] [Info] Start training from score -0.000380\n",
            "[LightGBM] [Warning] lambda_l2 is set=0.1, reg_lambda=0.0 will be ignored. Current value: lambda_l2=0.1\n",
            "[LightGBM] [Warning] lambda_l1 is set=0.1, reg_alpha=0.0 will be ignored. Current value: lambda_l1=0.1\n",
            "[LightGBM] [Warning] lambda_l2 is set=0.1, reg_lambda=0.0 will be ignored. Current value: lambda_l2=0.1\n",
            "[LightGBM] [Warning] lambda_l1 is set=0.1, reg_alpha=0.0 will be ignored. Current value: lambda_l1=0.1\n",
            "[LightGBM] [Warning] lambda_l2 is set=0.1, reg_lambda=0.0 will be ignored. Current value: lambda_l2=0.1\n",
            "[LightGBM] [Warning] lambda_l1 is set=0.1, reg_alpha=0.0 will be ignored. Current value: lambda_l1=0.1\n",
            "[LightGBM] [Info] Number of positive: 199962, number of negative: 200038\n",
            "[LightGBM] [Info] Auto-choosing row-wise multi-threading, the overhead of testing was 0.236498 seconds.\n",
            "You can set `force_row_wise=true` to remove the overhead.\n",
            "And if memory is not enough, you can set `force_col_wise=true`.\n",
            "[LightGBM] [Info] Total Bins 5281\n",
            "[LightGBM] [Info] Number of data points in the train set: 400000, number of used features: 80\n",
            "[LightGBM] [Info] [binary:BoostFromScore]: pavg=0.499905 -> initscore=-0.000380\n",
            "[LightGBM] [Info] Start training from score -0.000380\n",
            "[LightGBM] [Warning] lambda_l2 is set=0.1, reg_lambda=0.0 will be ignored. Current value: lambda_l2=0.1\n",
            "[LightGBM] [Warning] lambda_l1 is set=0.1, reg_alpha=0.0 will be ignored. Current value: lambda_l1=0.1\n",
            "[LightGBM] [Warning] lambda_l2 is set=0.1, reg_lambda=0.0 will be ignored. Current value: lambda_l2=0.1\n",
            "[LightGBM] [Warning] lambda_l1 is set=0.1, reg_alpha=0.0 will be ignored. Current value: lambda_l1=0.1\n",
            "[LightGBM] [Warning] lambda_l2 is set=0.1, reg_lambda=0.0 will be ignored. Current value: lambda_l2=0.1\n",
            "[LightGBM] [Warning] lambda_l1 is set=0.1, reg_alpha=0.0 will be ignored. Current value: lambda_l1=0.1\n",
            "[LightGBM] [Info] Number of positive: 199962, number of negative: 200038\n",
            "[LightGBM] [Info] Auto-choosing row-wise multi-threading, the overhead of testing was 0.191637 seconds.\n",
            "You can set `force_row_wise=true` to remove the overhead.\n",
            "And if memory is not enough, you can set `force_col_wise=true`.\n",
            "[LightGBM] [Info] Total Bins 5289\n",
            "[LightGBM] [Info] Number of data points in the train set: 400000, number of used features: 80\n",
            "[LightGBM] [Info] [binary:BoostFromScore]: pavg=0.499905 -> initscore=-0.000380\n",
            "[LightGBM] [Info] Start training from score -0.000380\n",
            "[LightGBM] [Warning] lambda_l2 is set=0.1, reg_lambda=0.0 will be ignored. Current value: lambda_l2=0.1\n",
            "[LightGBM] [Warning] lambda_l1 is set=0.1, reg_alpha=0.0 will be ignored. Current value: lambda_l1=0.1\n",
            "[LightGBM] [Warning] lambda_l2 is set=0.1, reg_lambda=0.0 will be ignored. Current value: lambda_l2=0.1\n",
            "[LightGBM] [Warning] lambda_l1 is set=0.1, reg_alpha=0.0 will be ignored. Current value: lambda_l1=0.1\n",
            "[LightGBM] [Warning] lambda_l2 is set=0.1, reg_lambda=0.0 will be ignored. Current value: lambda_l2=0.1\n",
            "[LightGBM] [Warning] lambda_l1 is set=0.1, reg_alpha=0.0 will be ignored. Current value: lambda_l1=0.1\n",
            "[LightGBM] [Info] Number of positive: 199963, number of negative: 200037\n",
            "[LightGBM] [Info] Auto-choosing row-wise multi-threading, the overhead of testing was 0.194383 seconds.\n",
            "You can set `force_row_wise=true` to remove the overhead.\n",
            "And if memory is not enough, you can set `force_col_wise=true`.\n",
            "[LightGBM] [Info] Total Bins 5313\n",
            "[LightGBM] [Info] Number of data points in the train set: 400000, number of used features: 80\n",
            "[LightGBM] [Info] [binary:BoostFromScore]: pavg=0.499908 -> initscore=-0.000370\n",
            "[LightGBM] [Info] Start training from score -0.000370\n",
            "[LightGBM] [Warning] lambda_l2 is set=0.1, reg_lambda=0.0 will be ignored. Current value: lambda_l2=0.1\n",
            "[LightGBM] [Warning] lambda_l1 is set=0.1, reg_alpha=0.0 will be ignored. Current value: lambda_l1=0.1\n",
            "[LightGBM] [Warning] lambda_l2 is set=0.1, reg_lambda=0.0 will be ignored. Current value: lambda_l2=0.1\n",
            "[LightGBM] [Warning] lambda_l1 is set=0.1, reg_alpha=0.0 will be ignored. Current value: lambda_l1=0.1\n",
            "[LightGBM] [Warning] lambda_l2 is set=0.1, reg_lambda=0.0 will be ignored. Current value: lambda_l2=0.1\n",
            "[LightGBM] [Warning] lambda_l1 is set=0.1, reg_alpha=0.0 will be ignored. Current value: lambda_l1=0.1\n",
            "[LightGBM] [Info] Number of positive: 199963, number of negative: 200037\n",
            "[LightGBM] [Info] Auto-choosing row-wise multi-threading, the overhead of testing was 0.240175 seconds.\n",
            "You can set `force_row_wise=true` to remove the overhead.\n",
            "And if memory is not enough, you can set `force_col_wise=true`.\n",
            "[LightGBM] [Info] Total Bins 5340\n",
            "[LightGBM] [Info] Number of data points in the train set: 400000, number of used features: 80\n",
            "[LightGBM] [Info] [binary:BoostFromScore]: pavg=0.499908 -> initscore=-0.000370\n",
            "[LightGBM] [Info] Start training from score -0.000370\n",
            "[LightGBM] [Warning] lambda_l2 is set=0.1, reg_lambda=0.0 will be ignored. Current value: lambda_l2=0.1\n",
            "[LightGBM] [Warning] lambda_l1 is set=0.1, reg_alpha=0.0 will be ignored. Current value: lambda_l1=0.1\n",
            "test_accuracy:\n",
            "Fold 1: 0.651\tFold 2: 0.649\tFold 3: 0.65\tFold 4: 0.652\tFold 5: 0.65\t\n",
            "\n",
            "test_precision:\n",
            "Fold 1: 0.653\tFold 2: 0.653\tFold 3: 0.652\tFold 4: 0.653\tFold 5: 0.652\t\n",
            "\n",
            "test_recall:\n",
            "Fold 1: 0.645\tFold 2: 0.636\tFold 3: 0.641\tFold 4: 0.647\tFold 5: 0.644\t\n",
            "\n",
            "test_f1:\n",
            "Fold 1: 0.649\tFold 2: 0.645\tFold 3: 0.647\tFold 4: 0.65\tFold 5: 0.648\t\n",
            "\n"
          ]
        }
      ],
      "source": [
        "# l1 and l2 regularization\n",
        "parameters['lambda_l1'] = 0.1\n",
        "cv_results_l1_l2 = cross_validate(\n",
        "    lgb.LGBMClassifier(**parameters),\n",
        "    X_train, Y_train,\n",
        "    cv=skf,\n",
        "    scoring=scoring_metrics,\n",
        "    verbose=1,\n",
        ")\n",
        "\n",
        "print_metrics(cv_results_l1_l2)"
      ]
    },
    {
      "cell_type": "markdown",
      "metadata": {
        "id": "7xhKcWpuxpGm"
      },
      "source": [
        "# scikit-learn Gradient Boosting Classifier"
      ]
    },
    {
      "cell_type": "code",
      "execution_count": null,
      "metadata": {
        "id": "eIN6WdexxxtU"
      },
      "outputs": [],
      "source": [
        "from sklearn.ensemble import HistGradientBoostingClassifier\n",
        "from sklearn.metrics import accuracy_score, precision_score, recall_score, f1_score\n",
        "\n",
        "clf = HistGradientBoostingClassifier(random_state=42)\n",
        "stratified_kfold = StratifiedKFold(n_splits=folds, shuffle=True, random_state=42)"
      ]
    },
    {
      "cell_type": "code",
      "execution_count": null,
      "metadata": {
        "id": "pfJZJzgot6B1",
        "colab": {
          "base_uri": "https://localhost:8080/"
        },
        "outputId": "21d6cb03-086f-4289-bb0e-f932a596a3c6"
      },
      "outputs": [
        {
          "output_type": "stream",
          "name": "stdout",
          "text": [
            "test_accuracy:\n",
            "Fold 1: 0.651\tFold 2: 0.65\tFold 3: 0.65\tFold 4: 0.651\tFold 5: 0.65\t\n",
            "\n",
            "test_precision:\n",
            "Fold 1: 0.654\tFold 2: 0.655\tFold 3: 0.653\tFold 4: 0.652\tFold 5: 0.652\t\n",
            "\n",
            "test_recall:\n",
            "Fold 1: 0.64\tFold 2: 0.637\tFold 3: 0.642\tFold 4: 0.645\tFold 5: 0.643\t\n",
            "\n",
            "test_f1:\n",
            "Fold 1: 0.647\tFold 2: 0.645\tFold 3: 0.647\tFold 4: 0.649\tFold 5: 0.647\t\n",
            "\n"
          ]
        }
      ],
      "source": [
        "# No regularization\n",
        "results = cross_validate(clf, X_train, Y_train, cv=stratified_kfold, scoring=scoring_metrics)\n",
        "print_metrics(results)"
      ]
    },
    {
      "cell_type": "code",
      "execution_count": null,
      "metadata": {
        "id": "DqppKhE719i5",
        "colab": {
          "base_uri": "https://localhost:8080/"
        },
        "outputId": "d996a2f0-9305-4b69-88b6-b51d4cb6ec72"
      },
      "outputs": [
        {
          "output_type": "stream",
          "name": "stdout",
          "text": [
            "0.5\n"
          ]
        }
      ],
      "source": [
        "# Find best value for L2 regularization\n",
        "\n",
        "from sklearn.model_selection import GridSearchCV\n",
        "\n",
        "param_grid = {'l2_regularization': [0.01, 0.1, 0.5, 1.0]}\n",
        "grid_search = GridSearchCV(HistGradientBoostingClassifier(), param_grid, cv=5)\n",
        "grid_search.fit(X_train, Y_train)\n",
        "best_l2_regularization = grid_search.best_params_['l2_regularization']\n",
        "print(best_l2_regularization)\n"
      ]
    },
    {
      "cell_type": "code",
      "execution_count": null,
      "metadata": {
        "id": "FaYdjLOivsHB",
        "colab": {
          "base_uri": "https://localhost:8080/"
        },
        "outputId": "b728ea56-94eb-40a4-a628-33546937aafc"
      },
      "outputs": [
        {
          "output_type": "stream",
          "name": "stdout",
          "text": [
            "test_accuracy:\n",
            "Fold 1: 0.651\tFold 2: 0.65\tFold 3: 0.65\tFold 4: 0.651\tFold 5: 0.65\t\n",
            "\n",
            "test_precision:\n",
            "Fold 1: 0.654\tFold 2: 0.654\tFold 3: 0.653\tFold 4: 0.653\tFold 5: 0.652\t\n",
            "\n",
            "test_recall:\n",
            "Fold 1: 0.641\tFold 2: 0.635\tFold 3: 0.641\tFold 4: 0.646\tFold 5: 0.645\t\n",
            "\n",
            "test_f1:\n",
            "Fold 1: 0.648\tFold 2: 0.644\tFold 3: 0.647\tFold 4: 0.649\tFold 5: 0.648\t\n",
            "\n"
          ]
        }
      ],
      "source": [
        "# L2 regularization\n",
        "new_params = {'l2_regularization': best_l2_regularization}\n",
        "clf.set_params(**new_params)\n",
        "results_l2 = cross_validate(clf, X_train, Y_train, cv=stratified_kfold, scoring=scoring_metrics)\n",
        "\n",
        "print_metrics(results_l2)"
      ]
    },
    {
      "cell_type": "markdown",
      "source": [
        "# Logistic Regression"
      ],
      "metadata": {
        "id": "HLtOpNxtoaF5"
      }
    },
    {
      "cell_type": "code",
      "source": [
        "from sklearn.model_selection import train_test_split\n",
        "from sklearn.preprocessing import StandardScaler, OneHotEncoder\n",
        "from sklearn.compose import ColumnTransformer\n",
        "from sklearn.pipeline import Pipeline\n",
        "from sklearn.impute import SimpleImputer\n",
        "import pandas as pd\n",
        "import numpy as np\n",
        "\n",
        "# Selecting a subset of the data\n",
        "train_sample = train.sample(n=100000, random_state=1)\n",
        "\n",
        "# Splitting into features and target\n",
        "X_train = train_sample.drop('HasDetections', axis=1)\n",
        "y_train = train_sample['HasDetections']\n",
        "\n",
        "# Selecting categorical and numerical columns\n",
        "categorical_cols = X_train.select_dtypes(include=['category', 'object']).columns\n",
        "numerical_cols = X_train.select_dtypes(include=['int8', 'int16', 'int32', 'float16', 'float32', 'float64']).columns\n",
        "\n",
        "# Creating a preprocessing pipeline\n",
        "numerical_transformer = Pipeline(steps=[\n",
        "    ('imputer', SimpleImputer(strategy='mean')),\n",
        "    ('scaler', StandardScaler())])\n",
        "\n",
        "categorical_transformer = Pipeline(steps=[\n",
        "    ('imputer', SimpleImputer(strategy='constant', fill_value='missing')),\n",
        "    ('onehot', OneHotEncoder(handle_unknown='ignore'))])\n",
        "\n",
        "preprocessor = ColumnTransformer(\n",
        "    transformers=[\n",
        "        ('num', numerical_transformer, numerical_cols),\n",
        "        ('cat', categorical_transformer, categorical_cols)])\n",
        "\n",
        "# Preprocessing the data\n",
        "X_train_preprocessed = preprocessor.fit_transform(X_train)\n"
      ],
      "metadata": {
        "id": "iU6Qj-onoJwk"
      },
      "execution_count": null,
      "outputs": []
    },
    {
      "cell_type": "code",
      "source": [
        "from sklearn.linear_model import LogisticRegression\n",
        "from sklearn.metrics import classification_report, roc_auc_score\n",
        "from sklearn.model_selection import train_test_split\n",
        "\n",
        "# Splitting the preprocessed data for validation\n",
        "X_train, X_val, y_train, y_val = train_test_split(X_train_preprocessed, y_train, test_size=0.2, random_state=0)\n",
        "\n",
        "# Building the Logistic Regression model\n",
        "model = LogisticRegression(random_state=0)\n",
        "model.fit(X_train, y_train)\n",
        "\n",
        "# Predicting on the validation set\n",
        "y_pred = model.predict(X_val)\n",
        "\n",
        "# Evaluating the model\n",
        "print(classification_report(y_val, y_pred))\n",
        "print(\"ROC-AUC Score:\", roc_auc_score(y_val, y_pred))\n"
      ],
      "metadata": {
        "colab": {
          "base_uri": "https://localhost:8080/"
        },
        "id": "9sFa5JImsK7a",
        "outputId": "178c5646-4921-40ac-e61c-6435a45c0ac5"
      },
      "execution_count": null,
      "outputs": [
        {
          "output_type": "stream",
          "name": "stdout",
          "text": [
            "              precision    recall  f1-score   support\n",
            "\n",
            "           0       0.62      0.63      0.62     10020\n",
            "           1       0.62      0.61      0.61      9980\n",
            "\n",
            "    accuracy                           0.62     20000\n",
            "   macro avg       0.62      0.62      0.62     20000\n",
            "weighted avg       0.62      0.62      0.62     20000\n",
            "\n",
            "ROC-AUC Score: 0.6181321725286902\n"
          ]
        },
        {
          "output_type": "stream",
          "name": "stderr",
          "text": [
            "/usr/local/lib/python3.10/dist-packages/sklearn/linear_model/_logistic.py:458: ConvergenceWarning: lbfgs failed to converge (status=1):\n",
            "STOP: TOTAL NO. of ITERATIONS REACHED LIMIT.\n",
            "\n",
            "Increase the number of iterations (max_iter) or scale the data as shown in:\n",
            "    https://scikit-learn.org/stable/modules/preprocessing.html\n",
            "Please also refer to the documentation for alternative solver options:\n",
            "    https://scikit-learn.org/stable/modules/linear_model.html#logistic-regression\n",
            "  n_iter_i = _check_optimize_result(\n"
          ]
        }
      ]
    },
    {
      "cell_type": "markdown",
      "metadata": {
        "id": "a_1Jq_guU03y"
      },
      "source": [
        "#Deep Learning Models (Neural Networks)"
      ]
    },
    {
      "cell_type": "code",
      "source": [
        "from sklearn.preprocessing import FunctionTransformer\n",
        "\n",
        "# Assuming you have already imported necessary libraries and defined categorical_cols and numerical_cols\n",
        "\n",
        "# A custom transformer function to convert sparse arrays to dense\n",
        "def to_dense(tensor):\n",
        "    if isinstance(tensor, sparse.spmatrix):\n",
        "        return tensor.toarray()\n",
        "    else:\n",
        "        return tensor\n",
        "\n",
        "# Update the categorical transformer to include to_dense\n",
        "categorical_transformer = Pipeline(steps=[\n",
        "    ('imputer', SimpleImputer(strategy='constant', fill_value='missing')),\n",
        "    ('onehot', OneHotEncoder(handle_unknown='ignore', sparse_output=True)),\n",
        "    ('to_dense', FunctionTransformer(to_dense, accept_sparse=True))\n",
        "])\n",
        "\n",
        "# Proceed with the ColumnTransformer as before\n"
      ],
      "metadata": {
        "id": "i3ln_H1xtMgX"
      },
      "execution_count": null,
      "outputs": []
    },
    {
      "cell_type": "code",
      "source": [
        "from tensorflow.keras.models import Sequential\n",
        "from tensorflow.keras.layers import Dense, Dropout\n",
        "import scipy.sparse as sparse\n",
        "\n",
        "# Define the model\n",
        "model = Sequential()\n",
        "model.add(Dense(64, activation='relu', input_shape=(X_train.shape[1],)))\n",
        "model.add(Dropout(0.5))\n",
        "model.add(Dense(32, activation='relu'))\n",
        "model.add(Dropout(0.5))\n",
        "model.add(Dense(1, activation='sigmoid'))\n",
        "\n",
        "# Compile the model\n",
        "model.compile(optimizer='adam', loss='binary_crossentropy', metrics=['accuracy'])\n",
        "\n",
        "# Convert your data to numpy arrays if they are not already\n",
        "X_train_np = np.array(X_train.toarray()) if isinstance(X_train, sparse.csr_matrix) else np.array(X_train)\n",
        "y_train_np = np.array(y_train)\n",
        "\n",
        "X_val_np = np.array(X_val.toarray()) if isinstance(X_val, sparse.csr_matrix) else np.array(X_val)\n",
        "y_val_np = np.array(y_val)\n",
        "\n",
        "# Train the model\n",
        "history = model.fit(X_train_np, y_train_np, epochs=10, batch_size=256, validation_data=(X_val_np, y_val_np))\n"
      ],
      "metadata": {
        "id": "HRWNnmNWss-v"
      },
      "execution_count": null,
      "outputs": []
    },
    {
      "cell_type": "code",
      "source": [
        "import scipy.sparse as sparse\n",
        "\n",
        "# Convert X_val to a dense array if it's in sparse format\n",
        "if isinstance(X_val, sparse.spmatrix):\n",
        "    X_val_dense = X_val.toarray()\n",
        "else:\n",
        "    X_val_dense = X_val\n"
      ],
      "metadata": {
        "id": "0Dqkyzb3zVAO"
      },
      "execution_count": null,
      "outputs": []
    },
    {
      "cell_type": "code",
      "source": [
        "from sklearn.metrics import classification_report\n",
        "\n",
        "# Predict on the dense validation set\n",
        "y_pred = model.predict(X_val_dense)\n",
        "y_pred = (y_pred > 0.5).astype(\"int32\")  # Convert probabilities to binary predictions\n",
        "\n",
        "# Generate classification report\n",
        "print(classification_report(y_val, y_pred))\n",
        "print(\"ROC-AUC Score:\", roc_auc_score(y_val, y_pred))\n"
      ],
      "metadata": {
        "colab": {
          "base_uri": "https://localhost:8080/"
        },
        "id": "RQhdp7r0yIxR",
        "outputId": "4ca9900e-fa9f-4036-bf9f-bc6120cb9eb6"
      },
      "execution_count": null,
      "outputs": [
        {
          "output_type": "stream",
          "name": "stdout",
          "text": [
            "313/313 [==============================] - 1s 3ms/step\n",
            "              precision    recall  f1-score   support\n",
            "\n",
            "           0       0.61      0.71      0.66      4973\n",
            "           1       0.66      0.55      0.60      5027\n",
            "\n",
            "    accuracy                           0.63     10000\n",
            "   macro avg       0.63      0.63      0.63     10000\n",
            "weighted avg       0.63      0.63      0.63     10000\n",
            "\n",
            "ROC-AUC Score: 0.6307131315949173\n"
          ]
        }
      ]
    },
    {
      "cell_type": "markdown",
      "metadata": {
        "id": "8KZu88MLFSeK"
      },
      "source": [
        "# XGBoost (Extreme Gradient Boosting)"
      ]
    },
    {
      "cell_type": "code",
      "execution_count": null,
      "metadata": {
        "colab": {
          "base_uri": "https://localhost:8080/"
        },
        "id": "pmziFXVgFcq3",
        "outputId": "c46b26be-7ad1-4410-b5b2-80a596e00ebc"
      },
      "outputs": [
        {
          "name": "stderr",
          "output_type": "stream",
          "text": [
            "/usr/local/lib/python3.10/dist-packages/sklearn/feature_selection/_univariate_selection.py:112: UserWarning: Features [0 0 0 0 0] are constant.\n",
            "  warnings.warn(\"Features %s are constant.\" % constant_features_idx, UserWarning)\n",
            "/usr/local/lib/python3.10/dist-packages/sklearn/feature_selection/_univariate_selection.py:113: RuntimeWarning: invalid value encountered in divide\n",
            "  f = msb / msw\n"
          ]
        },
        {
          "name": "stdout",
          "output_type": "stream",
          "text": [
            "Validation Accuracy: 0.64\n"
          ]
        }
      ],
      "source": [
        "\n",
        "import xgboost as xgb\n",
        "from sklearn.model_selection import train_test_split\n",
        "from sklearn.preprocessing import StandardScaler, OneHotEncoder, OrdinalEncoder\n",
        "from sklearn.compose import ColumnTransformer\n",
        "from sklearn.pipeline import Pipeline\n",
        "from sklearn.feature_selection import SelectKBest, f_classif\n",
        "from sklearn.impute import SimpleImputer\n",
        "\n",
        "\n",
        "# Load a subset of your dataset\n",
        "n_rows = 100000  # Adjust this number based on your RAM capacity\n",
        "train = pd.read_csv('train.csv', dtype=dtypes, nrows=n_rows, low_memory=True)\n",
        "\n",
        "# Separate features and target variable\n",
        "X = train.drop('HasDetections', axis=1)\n",
        "y = train['HasDetections']\n",
        "\n",
        "# Preprocess data\n",
        "numerical_cols = X.select_dtypes(include=['int8', 'float16', 'float32', 'int16']).columns\n",
        "categorical_cols = X.select_dtypes(include=['category', 'object']).columns\n",
        "\n",
        "# Create transformers for preprocessing\n",
        "numerical_transformer = Pipeline(steps=[\n",
        "    ('imputer', SimpleImputer(strategy='mean')),  # Impute missing values in numerical data\n",
        "    ('scaler', StandardScaler())\n",
        "])\n",
        "\n",
        "categorical_transformer = Pipeline(steps=[\n",
        "    ('imputer', SimpleImputer(strategy='most_frequent')),  # Impute missing values in categorical data\n",
        "    ('encoder', OneHotEncoder(handle_unknown='ignore'))\n",
        "])\n",
        "\n",
        "preprocessor = ColumnTransformer(\n",
        "    transformers=[\n",
        "        ('num', numerical_transformer, numerical_cols),\n",
        "        ('cat', categorical_transformer, categorical_cols)\n",
        "    ])\n",
        "\n",
        "# Reduce the number of features using feature selection\n",
        "# Adjust 'k' to select the number of top features you want to keep\n",
        "feature_selector = SelectKBest(f_classif, k=100)\n",
        "\n",
        "# Splitting the dataset into the Training set and Test set\n",
        "X_train, X_val, y_train, y_val = train_test_split(X, y, test_size=0.2, random_state=42)\n",
        "\n",
        "# Create a pipeline\n",
        "pipeline = Pipeline(steps=[('preprocessor', preprocessor),\n",
        "                           ('feature_selector', feature_selector),\n",
        "                           ('classifier', xgb.XGBClassifier(objective='binary:logistic', eval_metric='logloss'))])\n",
        "\n",
        "# Train the model\n",
        "pipeline.fit(X_train, y_train)\n",
        "\n",
        "# Evaluate the model\n",
        "val_accuracy = pipeline.score(X_val, y_val)\n",
        "print(f\"Validation Accuracy: {val_accuracy:.2f}\")\n"
      ]
    },
    {
      "cell_type": "code",
      "execution_count": null,
      "metadata": {
        "colab": {
          "base_uri": "https://localhost:8080/"
        },
        "id": "tKG93ttFqYC1",
        "outputId": "45d31535-d982-4f58-a9d1-c495b6474631"
      },
      "outputs": [
        {
          "name": "stdout",
          "output_type": "stream",
          "text": [
            "              precision    recall  f1-score   support\n",
            "\n",
            "     Class 0       0.64      0.62      0.63      9969\n",
            "     Class 1       0.63      0.65      0.64     10031\n",
            "\n",
            "    accuracy                           0.64     20000\n",
            "   macro avg       0.64      0.64      0.64     20000\n",
            "weighted avg       0.64      0.64      0.64     20000\n",
            "\n"
          ]
        }
      ],
      "source": [
        "# Predict on the validation set\n",
        "y_val_pred = pipeline.predict(X_val)\n",
        "\n",
        "# Generate the classification report\n",
        "report = classification_report(y_val, y_val_pred, target_names=['Class 0', 'Class 1'])\n",
        "print(report)\n"
      ]
    },
    {
      "cell_type": "markdown",
      "source": [
        "# scikit-learn Gradient Boosting Classifier with PCA, feature selection"
      ],
      "metadata": {
        "id": "fElYGxfahSg_"
      }
    },
    {
      "cell_type": "code",
      "source": [
        "# import libraries\n",
        "from sklearn.model_selection import train_test_split\n",
        "from sklearn.preprocessing import StandardScaler, OneHotEncoder, OrdinalEncoder, LabelEncoder\n",
        "from sklearn.compose import ColumnTransformer\n",
        "from sklearn.pipeline import Pipeline\n",
        "from sklearn.impute import SimpleImputer\n",
        "from sklearn.ensemble import HistGradientBoostingClassifier\n",
        "from sklearn.decomposition import PCA\n",
        "from sklearn.metrics import classification_report, roc_auc_score\n",
        "from sklearn.feature_selection import SelectKBest, f_classif"
      ],
      "metadata": {
        "id": "9Nn480cLZAkr"
      },
      "execution_count": null,
      "outputs": []
    },
    {
      "cell_type": "code",
      "source": [
        "# prepare data\n",
        "subset = train.sample(n=500000, random_state=42)\n",
        "X = subset.drop('HasDetections', axis=1)\n",
        "Y = subset['HasDetections']\n",
        "\n",
        "# Preprocess data\n",
        "numerical_cols = X.select_dtypes(include=['int8', 'float16', 'float32', 'int16']).columns\n",
        "categorical_cols = X.select_dtypes(include=['category', 'object']).columns\n",
        "\n",
        "# Splitting the dataset into the Training set and Test set\n",
        "X_train, X_val, y_train, y_val = train_test_split(X, Y, test_size=0.2, random_state=42)\n",
        "\n",
        "# Create transformers for preprocessing\n",
        "numerical_transformer = Pipeline(steps=[\n",
        "    ('imputer', SimpleImputer(strategy='mean')),  # Impute missing values in numerical data\n",
        "    ('scaler', StandardScaler())\n",
        "])\n",
        "\n",
        "categorical_transformer = Pipeline(steps=[\n",
        "    ('imputer', SimpleImputer(strategy='most_frequent')),  # Impute missing values in categorical data\n",
        "    ('encoder', OrdinalEncoder(handle_unknown='use_encoded_value', unknown_value=-1))\n",
        "])\n",
        "\n",
        "preprocessor = ColumnTransformer(\n",
        "    transformers=[\n",
        "        ('num', numerical_transformer, numerical_cols),\n",
        "        ('cat', categorical_transformer, categorical_cols)\n",
        "    ])"
      ],
      "metadata": {
        "id": "JitDMhcuZRHQ"
      },
      "execution_count": null,
      "outputs": []
    },
    {
      "cell_type": "code",
      "source": [
        "# No PCA or feature selection\n",
        "\n",
        "# Create a pipeline\n",
        "pipeline = Pipeline(steps=[('preprocessor', preprocessor),\n",
        "                           ('classifier', HistGradientBoostingClassifier(class_weight='balanced'))])\n",
        "\n",
        "# Train the model\n",
        "pipeline.fit(X_train, y_train)\n",
        "\n",
        "# Evaluate the model\n",
        "val_accuracy = pipeline.score(X_val, y_val)\n",
        "print(f\"Validation Accuracy: {val_accuracy:.2f}\")\n",
        "\n",
        "# Predict on the validation set\n",
        "y_val_pred = pipeline.predict(X_val)\n",
        "\n",
        "# Generate the classification report\n",
        "report = classification_report(y_val, y_val_pred, target_names=['Class 0', 'Class 1'])\n",
        "print(report)\n",
        "print(\"ROC AUC score: \", round(roc_auc_score(y_val, y_val_pred), 3))"
      ],
      "metadata": {
        "colab": {
          "base_uri": "https://localhost:8080/"
        },
        "id": "UAakUn_-6fBx",
        "outputId": "2d9639c6-93d4-4508-b36b-6b7f0cf817b7"
      },
      "execution_count": null,
      "outputs": [
        {
          "output_type": "stream",
          "name": "stdout",
          "text": [
            "Validation Accuracy: 0.65\n",
            "              precision    recall  f1-score   support\n",
            "\n",
            "     Class 0       0.65      0.66      0.65     49902\n",
            "     Class 1       0.65      0.64      0.65     50098\n",
            "\n",
            "    accuracy                           0.65    100000\n",
            "   macro avg       0.65      0.65      0.65    100000\n",
            "weighted avg       0.65      0.65      0.65    100000\n",
            "\n",
            "ROC AUC score:  0.648\n"
          ]
        }
      ]
    },
    {
      "cell_type": "code",
      "source": [
        "# With PCA\n",
        "n_components = 70\n",
        "\n",
        "# Create a pipeline\n",
        "pipeline_pca = Pipeline(steps=[('preprocessor', preprocessor),\n",
        "                           ('pca', PCA(n_components=n_components)),\n",
        "                           ('classifier', HistGradientBoostingClassifier(class_weight='balanced'))])\n",
        "\n",
        "# Train the model\n",
        "pipeline_pca.fit(X_train, y_train)\n",
        "\n",
        "# Evaluate the model\n",
        "val_accuracy_pca = pipeline_pca.score(X_val, y_val)\n",
        "print(f\"Validation Accuracy: {val_accuracy_pca:.2f}\")\n",
        "\n",
        "# Predict on the validation set\n",
        "y_val_pred_pca = pipeline_pca.predict(X_val)\n",
        "\n",
        "# Generate the classification report\n",
        "report_pca = classification_report(y_val, y_val_pred_pca, target_names=['Class 0', 'Class 1'])\n",
        "print(report_pca)\n",
        "print(\"ROC AUC score: \", round(roc_auc_score(y_val, y_val_pred_pca), 3))"
      ],
      "metadata": {
        "colab": {
          "base_uri": "https://localhost:8080/"
        },
        "id": "oLc9MMY6hRUQ",
        "outputId": "40582f42-7c49-4c2b-abf0-0b3d6072d0cf"
      },
      "execution_count": null,
      "outputs": [
        {
          "output_type": "stream",
          "name": "stdout",
          "text": [
            "Validation Accuracy: 0.64\n",
            "              precision    recall  f1-score   support\n",
            "\n",
            "     Class 0       0.63      0.65      0.64     49902\n",
            "     Class 1       0.64      0.62      0.63     50098\n",
            "\n",
            "    accuracy                           0.64    100000\n",
            "   macro avg       0.64      0.64      0.64    100000\n",
            "weighted avg       0.64      0.64      0.64    100000\n",
            "\n",
            "ROC AUC score:  0.636\n"
          ]
        }
      ]
    },
    {
      "cell_type": "code",
      "source": [
        "# With feature selection\n",
        "feature_selector = SelectKBest(f_classif, k=50)\n",
        "pipeline_with_feature_selector = Pipeline(steps=[('preprocessor', preprocessor),\n",
        "                           ('feature_selector', feature_selector),\n",
        "                           ('classifier', HistGradientBoostingClassifier(class_weight='balanced'))])\n",
        "pipeline_with_feature_selector.fit(X_train, y_train)\n",
        "\n",
        "# Evaluate the model\n",
        "val_accuracy_feature_selection = pipeline_with_feature_selector.score(X_val, y_val)\n",
        "print(f\"Validation Accuracy: {val_accuracy_feature_selection:.2f}\")\n",
        "\n",
        "# Predict on the validation set\n",
        "y_val_pred_feature_selection = pipeline_with_feature_selector.predict(X_val)\n",
        "\n",
        "# Generate the classification report\n",
        "report_feature_selection = classification_report(y_val, y_val_pred_feature_selection, target_names=['Class 0', 'Class 1'])\n",
        "print(report_feature_selection)\n",
        "print(\"ROC AUC score: \", round(roc_auc_score(y_val, y_val_pred_feature_selection), 3))"
      ],
      "metadata": {
        "colab": {
          "base_uri": "https://localhost:8080/"
        },
        "id": "gRCLafpjYg5w",
        "outputId": "8c563a36-76a5-477f-d44f-38859bb0a292"
      },
      "execution_count": null,
      "outputs": [
        {
          "output_type": "stream",
          "name": "stderr",
          "text": [
            "/usr/local/lib/python3.10/dist-packages/sklearn/feature_selection/_univariate_selection.py:112: UserWarning: Features [44 61] are constant.\n",
            "  warnings.warn(\"Features %s are constant.\" % constant_features_idx, UserWarning)\n",
            "/usr/local/lib/python3.10/dist-packages/sklearn/feature_selection/_univariate_selection.py:113: RuntimeWarning: invalid value encountered in divide\n",
            "  f = msb / msw\n"
          ]
        },
        {
          "output_type": "stream",
          "name": "stdout",
          "text": [
            "Validation Accuracy: 0.65\n",
            "              precision    recall  f1-score   support\n",
            "\n",
            "     Class 0       0.64      0.65      0.65     49902\n",
            "     Class 1       0.65      0.64      0.64     50098\n",
            "\n",
            "    accuracy                           0.65    100000\n",
            "   macro avg       0.65      0.65      0.65    100000\n",
            "weighted avg       0.65      0.65      0.65    100000\n",
            "\n",
            "ROC AUC score:  0.646\n"
          ]
        }
      ]
    }
  ],
  "metadata": {
    "colab": {
      "provenance": [],
      "include_colab_link": true
    },
    "kernelspec": {
      "display_name": "Python 3",
      "name": "python3"
    },
    "language_info": {
      "name": "python"
    }
  },
  "nbformat": 4,
  "nbformat_minor": 0
}